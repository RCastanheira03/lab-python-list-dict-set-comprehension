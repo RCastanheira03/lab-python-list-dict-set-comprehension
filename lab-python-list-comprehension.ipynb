{
 "cells": [
  {
   "cell_type": "markdown",
   "id": "25d7736c-ba17-4aff-b6bb-66eba20fbf4e",
   "metadata": {},
   "source": [
    "# Lab | List, Dict and Set Comprehension"
   ]
  },
  {
   "cell_type": "markdown",
   "id": "7dd3cbde-675a-4b81-92c3-f728846dbe06",
   "metadata": {},
   "source": [
    "## Exercise: Managing Customer Orders Optimized with Comprehension"
   ]
  },
  {
   "cell_type": "markdown",
   "id": "5d500160-2fb7-4777-b5e4-09d45ebaf328",
   "metadata": {},
   "source": [
    "In the previous exercise, you developed a program to manage customer orders and inventory. Now, let's take it a step further and incorporate comprehension into your code.\n",
    "\n",
    "Follow the steps below to complete the exercise:\n",
    "\n",
    "1. Review your code from the previous exercise and identify areas where you can apply comprehension to simplify and streamline your code. \n",
    "\n",
    "    - *Hint: Apply it to initialize inventory, updating the inventory and printing the updated inventory.*\n",
    "    \n",
    "    - For example, in initializing the inventory, we could have:\n",
    "    \n",
    "        ```python\n",
    "        def initialize_inventory(products):\n",
    "            inventory = {product: int(input(f\"Enter the quantity of {product}s available: \")) for product in products}\n",
    "            return inventory\n",
    "\n",
    "        ```\n",
    "<br>\n",
    "    \n",
    "    \n",
    "2. Modify the function get_customer_orders so it prompts the user to enter the number of customer orders and gathers the product names using a loop and user input. Use comprehension.\n",
    "\n",
    "3. Add a new function to calculate the total price of the customer order. For each product in customer_orders, prompt the user to enter the price of that product. Use comprehension to calculate the total price. Note: assume that the user can only have 1 unit of each product.\n",
    "\n",
    "4. Modify the update_inventory function to remove the product from the inventory if its quantity becomes zero after fulfilling the customer orders. Use comprehension to filter out the products with a quantity of zero from the inventory.\n",
    "\n",
    "5. Print the total price of the customer order.\n",
    "\n",
    "Your code should produce output similar to the following:\n",
    "\n",
    "```python\n",
    "Enter the quantity of t-shirts available:  5\n",
    "Enter the quantity of mugs available:  4\n",
    "Enter the quantity of hats available:  3\n",
    "Enter the quantity of books available:  2\n",
    "Enter the quantity of keychains available:  1\n",
    "Enter the number of customer orders:  2\n",
    "Enter the name of a product that a customer wants to order:  hat\n",
    "Enter the name of a product that a customer wants to order:  keychain\n",
    "\n",
    "Order Statistics:\n",
    "Total Products Ordered: 2\n",
    "Percentage of Unique Products Ordered: 40.0\n",
    "\n",
    "Updated Inventory:\n",
    "t-shirt: 5\n",
    "mug: 4\n",
    "hat: 2\n",
    "book: 2\n",
    "Enter the price of keychain:  5\n",
    "Enter the price of hat:  10\n",
    "Total Price: 15.0\n",
    "\n",
    "```\n"
   ]
  },
  {
   "cell_type": "code",
   "execution_count": 26,
   "id": "5151dcfb-64a2-43a6-9aea-ce6041c12668",
   "metadata": {},
   "outputs": [
    {
     "name": "stdin",
     "output_type": "stream",
     "text": [
      "Enter the quantity of t-shirts available:  5\n",
      "Enter the quantity of mugs available:  4\n",
      "Enter the quantity of hats available:  3\n",
      "Enter the quantity of books available:  2\n",
      "Enter the quantity of keychains available:  1\n",
      "Enter number of customer orders:  2\n",
      "Enter the name of a product that a customer wants to order:  hat\n",
      "Enter the name of a product that a customer wants to order:  keychain\n"
     ]
    },
    {
     "name": "stdout",
     "output_type": "stream",
     "text": [
      "\n",
      "Order Statistics:\n",
      "Total products ordered: 2\n",
      "Percentage of unique products: 40.0\n",
      "\n",
      "Updated Inventory:\n",
      "t-shirt: 5\n",
      "mug: 4\n",
      "hat: 2\n",
      "book: 2\n"
     ]
    },
    {
     "name": "stdin",
     "output_type": "stream",
     "text": [
      "Enter the price of hat?:  10\n",
      "Enter the price of keychain?:  5\n"
     ]
    },
    {
     "name": "stdout",
     "output_type": "stream",
     "text": [
      "\n",
      "Total price: 15.0\n"
     ]
    }
   ],
   "source": [
    "products = [\"t-shirt\", \"mug\", \"hat\", \"book\", \"keychain\"]\n",
    "\n",
    "def initialize_inventory(products):\n",
    "    inventory = {product: int(input(f\"Enter the quantity of {product}s available: \")) for product in products}\n",
    "    return inventory\n",
    "\n",
    "\n",
    "def get_customer_orders():\n",
    "    \n",
    "    num_orders = int(input(\"Enter number of customer orders: \"))\n",
    "    customer_orders = {input(\"Enter the name of a product that a customer wants to order: \"): 1 for i in range(num_orders)}\n",
    "    \n",
    "    return customer_orders \n",
    "\n",
    "\n",
    "def calculate_order_statistics(customer_orders, products):\n",
    "\n",
    "    total_products_ordered = len(customer_orders)\n",
    "    percentage = (total_products_ordered / len(products)) * 100\n",
    "\n",
    "    statistics = {\"\\nOrder Statistics:\"\n",
    "                  \"Total products ordered\": total_products_ordered,\n",
    "                  \"Percentage of unique products\": percentage\n",
    "                 }\n",
    "    \n",
    "    return statistics\n",
    "\n",
    "\n",
    "def update_inventory(customer_orders, inventory):\n",
    "\n",
    "    inventory = {product: inventory[product] - 1 if product in customer_orders else inventory[product] for product in inventory}\n",
    "    inventory = {product: qty for product, qty in inventory.items() if qty > 0}\n",
    "    \n",
    "    return inventory\n",
    "\n",
    "\n",
    "def total_price_order(customer_orders):\n",
    "    price = [int(input(f\"Enter the price of {product}?: \")) for product in customer_orders.keys()]\n",
    "    \n",
    "    return float(sum(price))\n",
    "\n",
    "# Main program flow\n",
    "inventory = initialize_inventory(products)\n",
    "customer_orders = get_customer_orders()\n",
    "\n",
    "# Calculate and print statistics\n",
    "statistics = calculate_order_statistics(customer_orders, products)\n",
    "print(\"\\nOrder Statistics:\")\n",
    "print(\"Total products ordered:\", len(customer_orders))\n",
    "print(\"Percentage of unique products:\", (len(customer_orders)/ len(products)) * 100)\n",
    "\n",
    "# Update and print inventory\n",
    "inventory = update_inventory(customer_orders, inventory)\n",
    "print(\"\\nUpdated Inventory:\")\n",
    "for p, a in inventory.items():\n",
    "    print(f\"{p}: {a}\")\n",
    "\n",
    "# Calculate and print total price\n",
    "print(\"\\nTotal price:\", total_price_order(customer_orders))"
   ]
  },
  {
   "cell_type": "code",
   "execution_count": null,
   "id": "cef39fb4-0e90-4a98-8f49-9109d738e94b",
   "metadata": {},
   "outputs": [],
   "source": []
  }
 ],
 "metadata": {
  "kernelspec": {
   "display_name": "Python [conda env:base] *",
   "language": "python",
   "name": "conda-base-py"
  },
  "language_info": {
   "codemirror_mode": {
    "name": "ipython",
    "version": 3
   },
   "file_extension": ".py",
   "mimetype": "text/x-python",
   "name": "python",
   "nbconvert_exporter": "python",
   "pygments_lexer": "ipython3",
   "version": "3.13.5"
  }
 },
 "nbformat": 4,
 "nbformat_minor": 5
}
